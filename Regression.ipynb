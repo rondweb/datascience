{
  "nbformat": 4,
  "nbformat_minor": 0,
  "metadata": {
    "colab": {
      "provenance": [],
      "toc_visible": true
    },
    "kernelspec": {
      "name": "python3",
      "display_name": "Python 3"
    },
    "language_info": {
      "name": "python"
    }
  },
  "cells": [
    {
      "cell_type": "markdown",
      "source": [
        "LINEAR REGRESSION WITH SKLEARN"
      ],
      "metadata": {
        "id": "Yuphf10Dv9On"
      }
    },
    {
      "cell_type": "markdown",
      "source": [
        "Loading the dataset and importing the libraries"
      ],
      "metadata": {
        "id": "apLTDYhAwPU9"
      }
    },
    {
      "cell_type": "code",
      "execution_count": null,
      "metadata": {
        "id": "9r-ellKFvUZe"
      },
      "outputs": [],
      "source": [
        "from sklearn import datasets, linear_model"
      ]
    },
    {
      "cell_type": "code",
      "source": [
        "diabetes = datasets.load_diabetes()"
      ],
      "metadata": {
        "id": "ZbTCOhBivaZ5"
      },
      "execution_count": null,
      "outputs": []
    },
    {
      "cell_type": "markdown",
      "source": [
        "Getting the shape of data"
      ],
      "metadata": {
        "id": "hqNx8ukJxm8F"
      }
    },
    {
      "cell_type": "code",
      "source": [
        "print(diabetes.data.shape)\n",
        "print(diabetes.target.shape)"
      ],
      "metadata": {
        "id": "z6vKrcDPveL_",
        "colab": {
          "base_uri": "https://localhost:8080/"
        },
        "outputId": "e859c938-7499-4c7f-c869-3c1c59396d62"
      },
      "execution_count": null,
      "outputs": [
        {
          "output_type": "stream",
          "name": "stdout",
          "text": [
            "(442, 10)\n",
            "(442,)\n"
          ]
        }
      ]
    },
    {
      "cell_type": "markdown",
      "source": [
        "3 - Getting the statistics descriptives samples about this dataset "
      ],
      "metadata": {
        "id": "qPJccpnr0aXo"
      }
    },
    {
      "cell_type": "code",
      "source": [
        "diabetes.data[:5, :10]"
      ],
      "metadata": {
        "colab": {
          "base_uri": "https://localhost:8080/"
        },
        "id": "fiu4LoMUxwCP",
        "outputId": "c15a0910-69d1-4b7c-8f3a-042ecf9b039d"
      },
      "execution_count": null,
      "outputs": [
        {
          "output_type": "execute_result",
          "data": {
            "text/plain": [
              "array([[ 0.03807591,  0.05068012,  0.06169621,  0.02187235, -0.0442235 ,\n",
              "        -0.03482076, -0.04340085, -0.00259226,  0.01990842, -0.01764613],\n",
              "       [-0.00188202, -0.04464164, -0.05147406, -0.02632783, -0.00844872,\n",
              "        -0.01916334,  0.07441156, -0.03949338, -0.06832974, -0.09220405],\n",
              "       [ 0.08529891,  0.05068012,  0.04445121, -0.00567061, -0.04559945,\n",
              "        -0.03419447, -0.03235593, -0.00259226,  0.00286377, -0.02593034],\n",
              "       [-0.08906294, -0.04464164, -0.01159501, -0.03665645,  0.01219057,\n",
              "         0.02499059, -0.03603757,  0.03430886,  0.02269202, -0.00936191],\n",
              "       [ 0.00538306, -0.04464164, -0.03638469,  0.02187235,  0.00393485,\n",
              "         0.01559614,  0.00814208, -0.00259226, -0.03199144, -0.04664087]])"
            ]
          },
          "metadata": {},
          "execution_count": 9
        }
      ]
    },
    {
      "cell_type": "code",
      "source": [
        "diabetes.data[:5]"
      ],
      "metadata": {
        "colab": {
          "base_uri": "https://localhost:8080/"
        },
        "id": "jhuiis2202Kh",
        "outputId": "ce9b334e-98a4-4551-e4e0-dbc00dd2191e"
      },
      "execution_count": null,
      "outputs": [
        {
          "output_type": "execute_result",
          "data": {
            "text/plain": [
              "array([[ 0.03807591,  0.05068012,  0.06169621,  0.02187235, -0.0442235 ,\n",
              "        -0.03482076, -0.04340085, -0.00259226,  0.01990842, -0.01764613],\n",
              "       [-0.00188202, -0.04464164, -0.05147406, -0.02632783, -0.00844872,\n",
              "        -0.01916334,  0.07441156, -0.03949338, -0.06832974, -0.09220405],\n",
              "       [ 0.08529891,  0.05068012,  0.04445121, -0.00567061, -0.04559945,\n",
              "        -0.03419447, -0.03235593, -0.00259226,  0.00286377, -0.02593034],\n",
              "       [-0.08906294, -0.04464164, -0.01159501, -0.03665645,  0.01219057,\n",
              "         0.02499059, -0.03603757,  0.03430886,  0.02269202, -0.00936191],\n",
              "       [ 0.00538306, -0.04464164, -0.03638469,  0.02187235,  0.00393485,\n",
              "         0.01559614,  0.00814208, -0.00259226, -0.03199144, -0.04664087]])"
            ]
          },
          "metadata": {},
          "execution_count": 8
        }
      ]
    },
    {
      "cell_type": "code",
      "source": [
        "print(min(diabetes.target), max(diabetes.target))"
      ],
      "metadata": {
        "colab": {
          "base_uri": "https://localhost:8080/"
        },
        "id": "NPUotgGY07y0",
        "outputId": "15c2e891-a153-469b-fa2a-0fffa0503ba4"
      },
      "execution_count": null,
      "outputs": [
        {
          "output_type": "stream",
          "name": "stdout",
          "text": [
            "25.0 346.0\n"
          ]
        }
      ]
    },
    {
      "cell_type": "markdown",
      "source": [
        "SELECTION DE PREDICTEURS"
      ],
      "metadata": {
        "id": "KyP3BzlK1L9a"
      }
    },
    {
      "cell_type": "code",
      "source": [
        "import numpy as np"
      ],
      "metadata": {
        "id": "FECnMsyj1Hta"
      },
      "execution_count": null,
      "outputs": []
    },
    {
      "cell_type": "code",
      "source": [
        "diabetes_X = diabetes.data[:, np.newaxis]\n",
        "diabetes_X_temp = diabetes_X[:, :, 2]"
      ],
      "metadata": {
        "id": "ReUVmlAL1YpO"
      },
      "execution_count": null,
      "outputs": []
    },
    {
      "cell_type": "markdown",
      "source": [
        "We proceed right now with division of the dataset in two parts (80%) Training and (20%) Test"
      ],
      "metadata": {
        "id": "BGLR_J8-1vvl"
      }
    },
    {
      "cell_type": "code",
      "source": [
        "from sklearn.model_selection import train_test_split\n",
        "\n",
        "diabetes_X_train, diabetes_X_test, diabetes_Y_train, diabetes_Y_test=train_test_split(diabetes_X_temp,diabetes.target, test_size=0.20, random_state=42)\n",
        "\n",
        "print (len(diabetes_X_train))\n",
        "\n",
        "print (len (diabetes_X_test))\n",
        "\n",
        "print (len (diabetes_Y_train))\n",
        "\n",
        "print (len (diabetes_Y_test))\n"
      ],
      "metadata": {
        "colab": {
          "base_uri": "https://localhost:8080/"
        },
        "id": "e7BVonS31q61",
        "outputId": "799ae9e2-e192-4771-da33-b5d75819e71a"
      },
      "execution_count": null,
      "outputs": [
        {
          "output_type": "stream",
          "name": "stdout",
          "text": [
            "353\n",
            "89\n",
            "353\n",
            "89\n"
          ]
        }
      ]
    },
    {
      "cell_type": "markdown",
      "source": [
        "**Right now developping the model linear**"
      ],
      "metadata": {
        "id": "Y1ayVNE52oF7"
      }
    },
    {
      "cell_type": "code",
      "source": [
        "regression = linear_model.LinearRegression()"
      ],
      "metadata": {
        "id": "KnxQRPbG2eWt"
      },
      "execution_count": null,
      "outputs": []
    },
    {
      "cell_type": "markdown",
      "source": [
        "**Training the model of the model**"
      ],
      "metadata": {
        "id": "NMhkbgrw3KmR"
      }
    },
    {
      "cell_type": "code",
      "source": [
        "regression.fit(diabetes_X_train, diabetes_Y_train)"
      ],
      "metadata": {
        "colab": {
          "base_uri": "https://localhost:8080/"
        },
        "id": "nuIABGfR2-HO",
        "outputId": "b68adb1c-7fbc-4a4c-e116-0ac7f39cd99f"
      },
      "execution_count": null,
      "outputs": [
        {
          "output_type": "execute_result",
          "data": {
            "text/plain": [
              "LinearRegression()"
            ]
          },
          "metadata": {},
          "execution_count": 20
        }
      ]
    },
    {
      "cell_type": "markdown",
      "source": [
        "**Showing the coeficients**"
      ],
      "metadata": {
        "id": "VdIzNuBi3ZXL"
      }
    },
    {
      "cell_type": "code",
      "source": [
        "f'Coeficients of the model:{ regression.coef_ }'"
      ],
      "metadata": {
        "colab": {
          "base_uri": "https://localhost:8080/",
          "height": 35
        },
        "id": "H8ueEt0d3U9j",
        "outputId": "c5fc80ea-361f-46f3-f9e7-b01d2c6fa397"
      },
      "execution_count": null,
      "outputs": [
        {
          "output_type": "execute_result",
          "data": {
            "text/plain": [
              "'Coeficients of the model:[998.57768914]'"
            ],
            "application/vnd.google.colaboratory.intrinsic+json": {
              "type": "string"
            }
          },
          "metadata": {},
          "execution_count": 21
        }
      ]
    },
    {
      "cell_type": "code",
      "source": [
        "f'Intercept of model: { regression.intercept_}'"
      ],
      "metadata": {
        "colab": {
          "base_uri": "https://localhost:8080/",
          "height": 35
        },
        "id": "-EJQR4_y3tXC",
        "outputId": "8c937624-9fdb-4266-fa3f-e5651e6ac9ff"
      },
      "execution_count": null,
      "outputs": [
        {
          "output_type": "execute_result",
          "data": {
            "text/plain": [
              "'Intercept of model: 152.00335421448227'"
            ],
            "application/vnd.google.colaboratory.intrinsic+json": {
              "type": "string"
            }
          },
          "metadata": {},
          "execution_count": 22
        }
      ]
    },
    {
      "cell_type": "markdown",
      "source": [
        "**Showing the errors**"
      ],
      "metadata": {
        "id": "wHPpV0bO4ShH"
      }
    },
    {
      "cell_type": "code",
      "source": [
        "'Residual sum of square %2.f'%(np.mean((regression.predict(diabetes_X_test) - diabetes_Y_test) ** 2))"
      ],
      "metadata": {
        "colab": {
          "base_uri": "https://localhost:8080/",
          "height": 35
        },
        "id": "_A8M-jFR37kT",
        "outputId": "fe106efe-3011-417d-c2e7-c862f33dc506"
      },
      "execution_count": null,
      "outputs": [
        {
          "output_type": "execute_result",
          "data": {
            "text/plain": [
              "'Residual sum of square 4062'"
            ],
            "application/vnd.google.colaboratory.intrinsic+json": {
              "type": "string"
            }
          },
          "metadata": {},
          "execution_count": 23
        }
      ]
    },
    {
      "cell_type": "markdown",
      "source": [
        "**Based on the test set, we make the prediction using the model we obtained:**"
      ],
      "metadata": {
        "id": "vcDq4jSA5aRr"
      }
    },
    {
      "cell_type": "code",
      "source": [
        "import matplotlib.pyplot as plt"
      ],
      "metadata": {
        "id": "7-urg8Wc474E"
      },
      "execution_count": null,
      "outputs": []
    },
    {
      "cell_type": "code",
      "source": [
        "plt.scatter(diabetes_X_test, diabetes_Y_test, color='red')\n",
        "plt.plot(diabetes_X_test, regression.predict(diabetes_X_test), color='blue')\n",
        "plt.xticks(())\n",
        "plt.yticks(())\n",
        "plt.ylabel('Progression maladie Y')\n",
        "plt.xlabel('Predictor X')\n",
        "plt.show()"
      ],
      "metadata": {
        "colab": {
          "base_uri": "https://localhost:8080/",
          "height": 266
        },
        "id": "AtCtV9Ds79vL",
        "outputId": "393974fc-9bd8-42cc-f644-e2fad050de82"
      },
      "execution_count": null,
      "outputs": [
        {
          "output_type": "display_data",
          "data": {
            "text/plain": [
              "<Figure size 432x288 with 1 Axes>"
            ],
            "image/png": "[encoded data removed]"
          },
          "metadata": {}
        }
      ]
    },
    {
      "cell_type": "code",
      "source": [],
      "metadata": {
        "id": "lnUkZHqR80ZE"
      },
      "execution_count": null,
      "outputs": []
    }
  ]
}